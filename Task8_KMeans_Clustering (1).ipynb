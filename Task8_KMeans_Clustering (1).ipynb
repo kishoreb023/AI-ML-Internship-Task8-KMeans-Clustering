{
 "cells": [
  {
   "cell_type": "markdown",
   "id": "2986f28f-62a6-4e44-8927-dc8fd2bbead6",
   "metadata": {},
   "source": [
    "# Task 7: Support Vector Machines (SVM)"
   ]
  },
  {
   "cell_type": "markdown",
   "id": "c0a326ce-d22d-4e02-8058-c3e520897c6c",
   "metadata": {},
   "source": [
    "# 🧩 Step 1: Import Required Libraries"
   ]
  },
  {
   "cell_type": "code",
   "execution_count": 1,
   "id": "029186fb-4bc1-4a4e-a99d-eb1e4294ae68",
   "metadata": {},
   "outputs": [],
   "source": [
    "import numpy as np\n",
    "import pandas as pd\n",
    "import matplotlib.pyplot as plt\n",
    "import seaborn as sns\n",
    "from sklearn import datasets\n",
    "from sklearn.model_selection import train_test_split, cross_val_score\n",
    "from sklearn.preprocessing import StandardScaler\n",
    "from sklearn.svm import SVC\n",
    "from sklearn.metrics import classification_report, confusion_matrix, accuracy_score\n",
    "import pickle"
   ]
  },
  {
   "cell_type": "markdown",
   "id": "20f56935-7791-431a-b4bc-4b51a1747743",
   "metadata": {},
   "source": [
    "# 📥 Step 2: Load the Breast Cancer Dataset"
   ]
  },
  {
   "cell_type": "code",
   "execution_count": 2,
   "id": "112c1ea8-bd6d-468c-96d2-761118ea6fc7",
   "metadata": {},
   "outputs": [],
   "source": [
    "data = datasets.load_breast_cancer()\n",
    "X = pd.DataFrame(data.data, columns=data.feature_names)\n",
    "y = pd.Series(data.target)"
   ]
  },
  {
   "cell_type": "markdown",
   "id": "4e9c5278-b9e3-4e75-9269-40c3dc58fbd6",
   "metadata": {},
   "source": [
    "# 🧹 Step 3: Preprocessing - Train/Test Split and Scaling"
   ]
  },
  {
   "cell_type": "code",
   "execution_count": 3,
   "id": "33aa1246-c731-43eb-90c5-f6a126471816",
   "metadata": {},
   "outputs": [],
   "source": [
    "X_train, X_test, y_train, y_test = train_test_split(X, y, test_size=0.2, random_state=42)\n",
    "scaler = StandardScaler()\n",
    "X_train_scaled = scaler.fit_transform(X_train)\n",
    "X_test_scaled = scaler.transform(X_test)"
   ]
  },
  {
   "cell_type": "markdown",
   "id": "f0b01e37-4fb7-487c-b3a7-dc32fbe69b44",
   "metadata": {},
   "source": [
    "# 🔍 Step 4: Train SVM with Linear Kernel"
   ]
  },
  {
   "cell_type": "code",
   "execution_count": 4,
   "id": "39095227-a496-49fa-8fdf-03c1efa0b0e3",
   "metadata": {},
   "outputs": [],
   "source": [
    "linear_svm = SVC(kernel='linear', C=1.0)\n",
    "linear_svm.fit(X_train_scaled, y_train)\n",
    "y_pred_linear = linear_svm.predict(X_test_scaled)"
   ]
  },
  {
   "cell_type": "markdown",
   "id": "a48b598c-3e6f-4ebf-9cf1-19da9fcd3d83",
   "metadata": {},
   "source": [
    "# 📊 Step 5: Evaluation - Linear Kernel"
   ]
  },
  {
   "cell_type": "code",
   "execution_count": 5,
   "id": "b9c0278d-1816-4b73-ace9-477ebcd8e09d",
   "metadata": {},
   "outputs": [
    {
     "name": "stdout",
     "output_type": "stream",
     "text": [
      "Linear SVM Accuracy: 0.956140350877193\n",
      "[[41  2]\n",
      " [ 3 68]]\n",
      "              precision    recall  f1-score   support\n",
      "\n",
      "           0       0.93      0.95      0.94        43\n",
      "           1       0.97      0.96      0.96        71\n",
      "\n",
      "    accuracy                           0.96       114\n",
      "   macro avg       0.95      0.96      0.95       114\n",
      "weighted avg       0.96      0.96      0.96       114\n",
      "\n"
     ]
    }
   ],
   "source": [
    "print(\"Linear SVM Accuracy:\", accuracy_score(y_test, y_pred_linear))\n",
    "print(confusion_matrix(y_test, y_pred_linear))\n",
    "print(classification_report(y_test, y_pred_linear))"
   ]
  },
  {
   "cell_type": "markdown",
   "id": "f233cd26-d3f7-41b8-a375-2c2f74f2e4fe",
   "metadata": {},
   "source": [
    "# 🌐 Step 6: Train SVM with RBF Kernel"
   ]
  },
  {
   "cell_type": "code",
   "execution_count": 6,
   "id": "8d2ae0d7-d74d-49c4-9f95-dfdfaaf1b17a",
   "metadata": {},
   "outputs": [],
   "source": [
    "rbf_svm = SVC(kernel='rbf', C=1.0, gamma='scale')\n",
    "rbf_svm.fit(X_train_scaled, y_train)\n",
    "y_pred_rbf = rbf_svm.predict(X_test_scaled)"
   ]
  },
  {
   "cell_type": "markdown",
   "id": "722f275e-dbda-4cdf-a628-1f99baaa0fe5",
   "metadata": {},
   "source": [
    "# 📊 Step 7: Evaluation - RBF Kernel"
   ]
  },
  {
   "cell_type": "code",
   "execution_count": 7,
   "id": "f0f8d2d3-549a-4e35-8e3f-6089f74f570a",
   "metadata": {},
   "outputs": [
    {
     "name": "stdout",
     "output_type": "stream",
     "text": [
      "RBF SVM Accuracy: 0.9824561403508771\n",
      "[[41  2]\n",
      " [ 0 71]]\n",
      "              precision    recall  f1-score   support\n",
      "\n",
      "           0       1.00      0.95      0.98        43\n",
      "           1       0.97      1.00      0.99        71\n",
      "\n",
      "    accuracy                           0.98       114\n",
      "   macro avg       0.99      0.98      0.98       114\n",
      "weighted avg       0.98      0.98      0.98       114\n",
      "\n"
     ]
    }
   ],
   "source": [
    "print(\"RBF SVM Accuracy:\", accuracy_score(y_test, y_pred_rbf))\n",
    "print(confusion_matrix(y_test, y_pred_rbf))\n",
    "print(classification_report(y_test, y_pred_rbf))"
   ]
  },
  {
   "cell_type": "markdown",
   "id": "b5f3a108-49e6-46e9-8629-173434ff215b",
   "metadata": {},
   "source": [
    "# 🔍 Step 8: Cross-Validation"
   ]
  },
  {
   "cell_type": "code",
   "execution_count": 8,
   "id": "8489cfbe-7921-4696-baa8-6a34aba6b98e",
   "metadata": {},
   "outputs": [
    {
     "name": "stdout",
     "output_type": "stream",
     "text": [
      "Cross-Validation Scores: [0.85087719 0.89473684 0.92982456 0.94736842 0.9380531 ]\n",
      "Mean CV Score: 0.9121720229777983\n"
     ]
    }
   ],
   "source": [
    "cv_scores = cross_val_score(rbf_svm, X, y, cv=5)\n",
    "print(\"Cross-Validation Scores:\", cv_scores)\n",
    "print(\"Mean CV Score:\", np.mean(cv_scores))\n"
   ]
  },
  {
   "cell_type": "markdown",
   "id": "642db571-c8d5-4846-9de2-98e1f914d7df",
   "metadata": {},
   "source": [
    "# 💾 Step 9: Save the Model"
   ]
  },
  {
   "cell_type": "code",
   "execution_count": 11,
   "id": "d5db3257-fb5a-443f-b922-e44ec0cf5b6e",
   "metadata": {},
   "outputs": [],
   "source": [
    "with open('cluster_task8.pkl', 'wb') as file:\n",
    "    pickle.dump(rbf_svm, file)\n"
   ]
  },
  {
   "cell_type": "markdown",
   "id": "af7285b4-07f5-47fd-ab6e-4be0a1db388b",
   "metadata": {},
   "source": [
    "\n",
    "# ✅ Task Completed"
   ]
  },
  {
   "cell_type": "code",
   "execution_count": null,
   "id": "40cf4861-2d6b-456b-9af5-d717675b0748",
   "metadata": {},
   "outputs": [],
   "source": []
  }
 ],
 "metadata": {
  "kernelspec": {
   "display_name": "Python 3.11 (custom)",
   "language": "python",
   "name": "python311"
  },
  "language_info": {
   "codemirror_mode": {
    "name": "ipython",
    "version": 3
   },
   "file_extension": ".py",
   "mimetype": "text/x-python",
   "name": "python",
   "nbconvert_exporter": "python",
   "pygments_lexer": "ipython3",
   "version": "3.11.0"
  }
 },
 "nbformat": 4,
 "nbformat_minor": 5
}
